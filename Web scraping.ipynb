{
 "cells": [
  {
   "cell_type": "markdown",
   "id": "27ef1c65",
   "metadata": {},
   "source": [
    "#### Scraping Github page using BeautifulSoup and request"
   ]
  },
  {
   "cell_type": "code",
   "execution_count": 53,
   "id": "d4bf435b",
   "metadata": {},
   "outputs": [],
   "source": [
    "#import libraries for downloading web pages\n",
    "\n",
    "import requests   \n",
    "from bs4 import BeautifulSoup as bs"
   ]
  },
  {
   "cell_type": "code",
   "execution_count": 54,
   "id": "ca4ddc9a",
   "metadata": {},
   "outputs": [],
   "source": [
    "# Get url\n",
    "\n",
    "topics_url = 'https://github.com/topics'"
   ]
  },
  {
   "cell_type": "code",
   "execution_count": 55,
   "id": "fc0bcd81",
   "metadata": {},
   "outputs": [
    {
     "data": {
      "text/plain": [
       "<Response [200]>"
      ]
     },
     "execution_count": 55,
     "metadata": {},
     "output_type": "execute_result"
    }
   ],
   "source": [
    "page =  requests.get (topics_url) \n",
    "page"
   ]
  },
  {
   "cell_type": "code",
   "execution_count": 56,
   "id": "098b1006",
   "metadata": {},
   "outputs": [
    {
     "data": {
      "text/plain": [
       "140435"
      ]
     },
     "execution_count": 56,
     "metadata": {},
     "output_type": "execute_result"
    }
   ],
   "source": [
    "len(page.text)   "
   ]
  },
  {
   "cell_type": "code",
   "execution_count": 57,
   "id": "0934693e",
   "metadata": {},
   "outputs": [
    {
     "data": {
      "text/plain": [
       "'\\n\\n<!DOCTYPE html>\\n<html lang=\"en\" data-color-mode=\"auto\" data-light-theme=\"light\" data-dark-theme=\"dark\" data-a11y-animated-images=\"system\">\\n  <head>\\n    <meta charset=\"utf-8\">\\n  <link rel=\"dns-prefetch\" href=\"https://github.githubassets.com\">\\n  <link rel=\"dns-prefetch\" href=\"https://avatars.githubusercontent.com\">\\n  <link rel=\"dns-prefetch\" href=\"https://github-cloud.s3.amazonaws.com\">\\n  <link rel=\"dns-prefetch\" href=\"https://user-images.githubusercontent.com/\">\\n  <link rel=\"preconnect\" href=\"https://github.githubassets.com\" crossorigin>\\n  <link rel=\"preconnect\" href=\"https://avatars.githubusercontent.com\">\\n\\n\\n\\n  <link crossorigin=\"anonymous\" media=\"all\" rel=\"stylesheet\" href=\"https://github.githubassets.com/assets/light-5178aee0ee76.css\" /><link crossorigin=\"anonymous\" media=\"all\" rel=\"stylesheet\" href=\"https://github.githubassets.com/assets/dark-217d4f9c8e70.css\" /><link data-color-theme=\"dark_dimmed\" crossorigin=\"anonymous\" media=\"all\" rel=\"stylesheet\" data-href=\"https://github.gith'"
      ]
     },
     "execution_count": 57,
     "metadata": {},
     "output_type": "execute_result"
    }
   ],
   "source": [
    "# Print the first 1000\n",
    "\n",
    "page_content = page.text      \n",
    "page_content[:1000]"
   ]
  },
  {
   "cell_type": "code",
   "execution_count": 58,
   "id": "2c1b9795",
   "metadata": {},
   "outputs": [],
   "source": [
    "# convert the page using beautifulSoup and parser\n",
    "\n",
    "soup= bs(page_content, 'html.parser')"
   ]
  },
  {
   "cell_type": "code",
   "execution_count": 59,
   "id": "b45fff12",
   "metadata": {},
   "outputs": [],
   "source": [
    "# Get the page title in github\n",
    "\n",
    "tt_class = 'f3 lh-condensed mb-0 mt-1 Link--primary'\n",
    "topic_title = soup.find_all('p', {'class' : tt_class}) "
   ]
  },
  {
   "cell_type": "code",
   "execution_count": 60,
   "id": "fd3c9c2d",
   "metadata": {},
   "outputs": [
    {
     "data": {
      "text/plain": [
       "30"
      ]
     },
     "execution_count": 60,
     "metadata": {},
     "output_type": "execute_result"
    }
   ],
   "source": [
    "len(topic_title)"
   ]
  },
  {
   "cell_type": "code",
   "execution_count": 61,
   "id": "eea8c79c",
   "metadata": {},
   "outputs": [
    {
     "data": {
      "text/plain": [
       "[<p class=\"f3 lh-condensed mb-0 mt-1 Link--primary\">3D</p>,\n",
       " <p class=\"f3 lh-condensed mb-0 mt-1 Link--primary\">Ajax</p>,\n",
       " <p class=\"f3 lh-condensed mb-0 mt-1 Link--primary\">Algorithm</p>,\n",
       " <p class=\"f3 lh-condensed mb-0 mt-1 Link--primary\">Amp</p>,\n",
       " <p class=\"f3 lh-condensed mb-0 mt-1 Link--primary\">Android</p>]"
      ]
     },
     "execution_count": 61,
     "metadata": {},
     "output_type": "execute_result"
    }
   ],
   "source": [
    "topic_title[:5]"
   ]
  },
  {
   "cell_type": "code",
   "execution_count": null,
   "id": "277a5a42",
   "metadata": {},
   "outputs": [],
   "source": []
  },
  {
   "cell_type": "code",
   "execution_count": 62,
   "id": "3d6ce9cb",
   "metadata": {},
   "outputs": [],
   "source": [
    "## Get the topic description\n",
    "\n",
    "td_class = \"f5 color-fg-muted mb-0 mt-1\"\n",
    "topic_desc = soup.find_all('p', {'class' :td_class}) "
   ]
  },
  {
   "cell_type": "code",
   "execution_count": 63,
   "id": "2101ff7d",
   "metadata": {},
   "outputs": [
    {
     "data": {
      "text/plain": [
       "30"
      ]
     },
     "execution_count": 63,
     "metadata": {},
     "output_type": "execute_result"
    }
   ],
   "source": [
    "len(topic_desc)"
   ]
  },
  {
   "cell_type": "code",
   "execution_count": 64,
   "id": "7d58f5e0",
   "metadata": {},
   "outputs": [
    {
     "data": {
      "text/plain": [
       "[<p class=\"f5 color-fg-muted mb-0 mt-1\">\n",
       "           3D modeling is the process of virtually developing the surface and structure of a 3D object.\n",
       "         </p>,\n",
       " <p class=\"f5 color-fg-muted mb-0 mt-1\">\n",
       "           Ajax is a technique for creating interactive web applications.\n",
       "         </p>,\n",
       " <p class=\"f5 color-fg-muted mb-0 mt-1\">\n",
       "           Algorithms are self-contained sequences that carry out a variety of tasks.\n",
       "         </p>,\n",
       " <p class=\"f5 color-fg-muted mb-0 mt-1\">\n",
       "           Amp is a non-blocking concurrency library for PHP.\n",
       "         </p>,\n",
       " <p class=\"f5 color-fg-muted mb-0 mt-1\">\n",
       "           Android is an operating system built by Google designed for mobile devices.\n",
       "         </p>]"
      ]
     },
     "execution_count": 64,
     "metadata": {},
     "output_type": "execute_result"
    }
   ],
   "source": [
    "topic_desc[:5]"
   ]
  },
  {
   "cell_type": "code",
   "execution_count": null,
   "id": "9c9af855",
   "metadata": {},
   "outputs": [],
   "source": []
  },
  {
   "cell_type": "code",
   "execution_count": 65,
   "id": "77b263c0",
   "metadata": {},
   "outputs": [],
   "source": [
    "## Find the parent \n",
    "topic_title0 = topic_title[0]"
   ]
  },
  {
   "cell_type": "code",
   "execution_count": 66,
   "id": "be5ec3f1",
   "metadata": {},
   "outputs": [
    {
     "data": {
      "text/plain": [
       "<div class=\"py-4 border-bottom d-flex flex-justify-between\">\n",
       "<a class=\"no-underline flex-grow-0\" href=\"/topics/3d\">\n",
       "<div class=\"color-bg-accent f4 color-fg-muted text-bold rounded mr-3 flex-shrink-0 text-center\" style=\"width:64px; height:64px; line-height:64px;\">\n",
       "            #\n",
       "          </div>\n",
       "</a>\n",
       "<a class=\"no-underline flex-1 d-flex flex-column\" href=\"/topics/3d\">\n",
       "<p class=\"f3 lh-condensed mb-0 mt-1 Link--primary\">3D</p>\n",
       "<p class=\"f5 color-fg-muted mb-0 mt-1\">\n",
       "          3D modeling is the process of virtually developing the surface and structure of a 3D object.\n",
       "        </p>\n",
       "</a>\n",
       "<div class=\"flex-grow-0\">\n",
       "<div class=\"d-block\" data-view-component=\"true\">\n",
       "<a aria-label=\"You must be signed in to star a repository\" class=\"tooltipped tooltipped-s btn-sm btn\" data-hydro-click='{\"event_type\":\"authentication.click\",\"payload\":{\"location_in_page\":\"star button\",\"repository_id\":null,\"auth_type\":\"LOG_IN\",\"originating_url\":\"https://github.com/topics\",\"user_id\":null}}' data-hydro-click-hmac=\"5d696759683aa72e09fbdb14a69b26ab1c672e6d107e4ae922a0926f4476f50a\" data-view-component=\"true\" href=\"/login?return_to=%2Ftopic.3d\" rel=\"nofollow\"> <svg aria-hidden=\"true\" class=\"octicon octicon-star v-align-text-bottom d-inline-block mr-2\" data-view-component=\"true\" height=\"16\" version=\"1.1\" viewbox=\"0 0 16 16\" width=\"16\">\n",
       "<path d=\"M8 .25a.75.75 0 01.673.418l1.882 3.815 4.21.612a.75.75 0 01.416 1.279l-3.046 2.97.719 4.192a.75.75 0 01-1.088.791L8 12.347l-3.766 1.98a.75.75 0 01-1.088-.79l.72-4.194L.818 6.374a.75.75 0 01.416-1.28l4.21-.611L7.327.668A.75.75 0 018 .25zm0 2.445L6.615 5.5a.75.75 0 01-.564.41l-3.097.45 2.24 2.184a.75.75 0 01.216.664l-.528 3.084 2.769-1.456a.75.75 0 01.698 0l2.77 1.456-.53-3.084a.75.75 0 01.216-.664l2.24-2.183-3.096-.45a.75.75 0 01-.564-.41L8 2.694v.001z\" fill-rule=\"evenodd\"></path>\n",
       "</svg><span class=\"d-inline\" data-view-component=\"true\">\n",
       "          Star\n",
       "</span>\n",
       "</a></div>\n",
       "</div>\n",
       "</div>"
      ]
     },
     "execution_count": 66,
     "metadata": {},
     "output_type": "execute_result"
    }
   ],
   "source": [
    "topic_title0.parent.parent"
   ]
  },
  {
   "cell_type": "code",
   "execution_count": null,
   "id": "09452fdf",
   "metadata": {},
   "outputs": [],
   "source": []
  },
  {
   "cell_type": "code",
   "execution_count": 67,
   "id": "c83fa2fb",
   "metadata": {},
   "outputs": [],
   "source": [
    "# Get the url link \n",
    "\n",
    "topic_link = soup.find_all('a', {'class' : \"no-underline flex-grow-0\"}) "
   ]
  },
  {
   "cell_type": "code",
   "execution_count": 68,
   "id": "bc40b973",
   "metadata": {},
   "outputs": [
    {
     "data": {
      "text/plain": [
       "30"
      ]
     },
     "execution_count": 68,
     "metadata": {},
     "output_type": "execute_result"
    }
   ],
   "source": [
    "len(topic_link)"
   ]
  },
  {
   "cell_type": "code",
   "execution_count": 69,
   "id": "aae3adf2",
   "metadata": {},
   "outputs": [
    {
     "data": {
      "text/plain": [
       "'/topics/3d'"
      ]
     },
     "execution_count": 69,
     "metadata": {},
     "output_type": "execute_result"
    }
   ],
   "source": [
    "# Get the href of the tag using href\n",
    "topic_link[0]['href']"
   ]
  },
  {
   "cell_type": "code",
   "execution_count": 70,
   "id": "02e0be2d",
   "metadata": {},
   "outputs": [
    {
     "name": "stdout",
     "output_type": "stream",
     "text": [
      "https://github.com/topics/3d\n"
     ]
    }
   ],
   "source": [
    "# Print the url (contruct url to the page)\n",
    "\n",
    "topic1_url = \"https://github.com\" + topic_link [0]['href']\n",
    "print (topic1_url)"
   ]
  },
  {
   "cell_type": "code",
   "execution_count": null,
   "id": "00117db8",
   "metadata": {},
   "outputs": [],
   "source": []
  },
  {
   "cell_type": "code",
   "execution_count": 71,
   "id": "d00523b5",
   "metadata": {},
   "outputs": [
    {
     "data": {
      "text/plain": [
       "[<p class=\"f3 lh-condensed mb-0 mt-1 Link--primary\">3D</p>,\n",
       " <p class=\"f3 lh-condensed mb-0 mt-1 Link--primary\">Ajax</p>,\n",
       " <p class=\"f3 lh-condensed mb-0 mt-1 Link--primary\">Algorithm</p>,\n",
       " <p class=\"f3 lh-condensed mb-0 mt-1 Link--primary\">Amp</p>,\n",
       " <p class=\"f3 lh-condensed mb-0 mt-1 Link--primary\">Android</p>]"
      ]
     },
     "execution_count": 71,
     "metadata": {},
     "output_type": "execute_result"
    }
   ],
   "source": [
    "topic_title[:5]"
   ]
  },
  {
   "cell_type": "code",
   "execution_count": 72,
   "id": "478d2f02",
   "metadata": {},
   "outputs": [
    {
     "data": {
      "text/plain": [
       "'Amp'"
      ]
     },
     "execution_count": 72,
     "metadata": {},
     "output_type": "execute_result"
    }
   ],
   "source": [
    "topic_title[3].text"
   ]
  },
  {
   "cell_type": "code",
   "execution_count": 73,
   "id": "eaa24678",
   "metadata": {},
   "outputs": [
    {
     "name": "stdout",
     "output_type": "stream",
     "text": [
      "['3D', 'Ajax', 'Algorithm', 'Amp', 'Android', 'Angular', 'Ansible', 'API', 'Arduino', 'ASP.NET', 'Atom', 'Awesome Lists', 'Amazon Web Services', 'Azure', 'Babel', 'Bash', 'Bitcoin', 'Bootstrap', 'Bot', 'C', 'Chrome', 'Chrome extension', 'Command line interface', 'Clojure', 'Code quality', 'Code review', 'Compiler', 'Continuous integration', 'COVID-19', 'C++']\n"
     ]
    }
   ],
   "source": [
    "#List of tag topic title\n",
    "tt =[]\n",
    "for soup in topic_title:\n",
    "    tt.append(soup.text)\n",
    "    \n",
    "print (tt)\n"
   ]
  },
  {
   "cell_type": "code",
   "execution_count": 74,
   "id": "197956ed",
   "metadata": {},
   "outputs": [
    {
     "name": "stdout",
     "output_type": "stream",
     "text": [
      "['3D modeling is the process of virtually developing the surface and structure of a 3D object.', 'Ajax is a technique for creating interactive web applications.', 'Algorithms are self-contained sequences that carry out a variety of tasks.', 'Amp is a non-blocking concurrency library for PHP.', 'Android is an operating system built by Google designed for mobile devices.', 'Angular is an open source web application platform.', 'Ansible is a simple and powerful automation engine.', 'An API (Application Programming Interface) is a collection of protocols and subroutines for building software.', 'Arduino is an open source hardware and software company and maker community.', 'ASP.NET is a web framework for building modern web apps and services.', 'Atom is a open source text editor built with web technologies.', 'An awesome list is a list of awesome things curated by the community.', 'Amazon Web Services provides on-demand cloud computing platforms on a subscription basis.', 'Azure is a cloud computing service created by Microsoft.', 'Babel is a compiler for writing next generation JavaScript, today.', 'Bash is a shell and command language interpreter for the GNU operating system.', 'Bitcoin is a cryptocurrency developed by Satoshi Nakamoto.', 'Bootstrap is an HTML, CSS, and JavaScript framework.', 'A bot is an application that runs automated tasks over the Internet.', 'C is a general purpose programming language that first appeared in 1972.', 'Chrome is a web browser from the tech company Google.', 'Chrome extensions enable users to customize the Chrome browsing experience.', 'A CLI, or command-line interface, is a console that helps users issue commands to a program.', 'Clojure is a dynamic, general-purpose programming language.', 'Automate your code review with style, quality, security, and test‑coverage checks when you need them.', 'Ensure your code meets quality standards and ship with confidence.', 'Compilers are software that translate higher-level programming languages to lower-level languages (e.g. machine code).', 'Automatically build and test your code as you push it upstream, preventing bugs from being deployed to production.', 'The coronavirus disease 2019 (COVID-19) is an infectious disease caused by SARS-CoV-2.', 'C++ is a general purpose and object-oriented programming language.']\n"
     ]
    }
   ],
   "source": [
    "#Tag topic description\n",
    "\n",
    "td  =[]\n",
    "\n",
    "for soup in topic_desc:\n",
    "    td.append(soup.text.strip())       \n",
    "    \n",
    "print (td)"
   ]
  },
  {
   "cell_type": "code",
   "execution_count": 75,
   "id": "94d05391",
   "metadata": {},
   "outputs": [
    {
     "data": {
      "text/plain": [
       "['3D modeling is the process of virtually developing the surface and structure of a 3D object.',\n",
       " 'Ajax is a technique for creating interactive web applications.',\n",
       " 'Algorithms are self-contained sequences that carry out a variety of tasks.',\n",
       " 'Amp is a non-blocking concurrency library for PHP.',\n",
       " 'Android is an operating system built by Google designed for mobile devices.']"
      ]
     },
     "execution_count": 75,
     "metadata": {},
     "output_type": "execute_result"
    }
   ],
   "source": [
    "#Remove spaces using Strip()\n",
    "    \n",
    "\n",
    "td  =[]\n",
    "\n",
    "for soup in topic_desc:\n",
    "    td.append(soup.text.strip())       \n",
    "\n",
    "# to print first 5\n",
    "td[:5]\n"
   ]
  },
  {
   "cell_type": "code",
   "execution_count": 76,
   "id": "da74218f",
   "metadata": {},
   "outputs": [
    {
     "data": {
      "text/plain": [
       "['https://github.com/topics/3d',\n",
       " 'https://github.com/topics/ajax',\n",
       " 'https://github.com/topics/algorithm',\n",
       " 'https://github.com/topics/amphp',\n",
       " 'https://github.com/topics/android',\n",
       " 'https://github.com/topics/angular',\n",
       " 'https://github.com/topics/ansible',\n",
       " 'https://github.com/topics/api',\n",
       " 'https://github.com/topics/arduino',\n",
       " 'https://github.com/topics/aspnet',\n",
       " 'https://github.com/topics/atom',\n",
       " 'https://github.com/topics/awesome',\n",
       " 'https://github.com/topics/aws',\n",
       " 'https://github.com/topics/azure',\n",
       " 'https://github.com/topics/babel',\n",
       " 'https://github.com/topics/bash',\n",
       " 'https://github.com/topics/bitcoin',\n",
       " 'https://github.com/topics/bootstrap',\n",
       " 'https://github.com/topics/bot',\n",
       " 'https://github.com/topics/c',\n",
       " 'https://github.com/topics/chrome',\n",
       " 'https://github.com/topics/chrome-extension',\n",
       " 'https://github.com/topics/cli',\n",
       " 'https://github.com/topics/clojure',\n",
       " 'https://github.com/topics/code-quality',\n",
       " 'https://github.com/topics/code-review',\n",
       " 'https://github.com/topics/compiler',\n",
       " 'https://github.com/topics/continuous-integration',\n",
       " 'https://github.com/topics/covid-19',\n",
       " 'https://github.com/topics/cpp']"
      ]
     },
     "execution_count": 76,
     "metadata": {},
     "output_type": "execute_result"
    }
   ],
   "source": [
    "#Construct the base (topics) url using loop\n",
    "\n",
    "url2  =[]\n",
    "base_url = \"https://github.com\"\n",
    "\n",
    "for soup in topic_link:\n",
    "    url2.append(base_url + soup['href'])       \n",
    "    \n",
    "url2"
   ]
  },
  {
   "cell_type": "code",
   "execution_count": null,
   "id": "5be526eb",
   "metadata": {},
   "outputs": [],
   "source": []
  },
  {
   "cell_type": "code",
   "execution_count": 77,
   "id": "25602710",
   "metadata": {},
   "outputs": [],
   "source": [
    "#Create a csv file from the html \n",
    "import pandas as pd "
   ]
  },
  {
   "cell_type": "code",
   "execution_count": 78,
   "id": "71615af6",
   "metadata": {},
   "outputs": [],
   "source": [
    "# create a dictionary\n",
    "\n",
    "github_dic ={\n",
    "    'title' : topic_title,\n",
    "    'description' : topic_desc,\n",
    "    'url' : url2\n",
    "}"
   ]
  },
  {
   "cell_type": "code",
   "execution_count": 79,
   "id": "8a5131b8",
   "metadata": {},
   "outputs": [
    {
     "data": {
      "text/html": [
       "<div>\n",
       "<style scoped>\n",
       "    .dataframe tbody tr th:only-of-type {\n",
       "        vertical-align: middle;\n",
       "    }\n",
       "\n",
       "    .dataframe tbody tr th {\n",
       "        vertical-align: top;\n",
       "    }\n",
       "\n",
       "    .dataframe thead th {\n",
       "        text-align: right;\n",
       "    }\n",
       "</style>\n",
       "<table border=\"1\" class=\"dataframe\">\n",
       "  <thead>\n",
       "    <tr style=\"text-align: right;\">\n",
       "      <th></th>\n",
       "      <th>title</th>\n",
       "      <th>description</th>\n",
       "      <th>url</th>\n",
       "    </tr>\n",
       "  </thead>\n",
       "  <tbody>\n",
       "    <tr>\n",
       "      <th>0</th>\n",
       "      <td>[3D]</td>\n",
       "      <td>[\\n          3D modeling is the process of vir...</td>\n",
       "      <td>https://github.com/topics/3d</td>\n",
       "    </tr>\n",
       "    <tr>\n",
       "      <th>1</th>\n",
       "      <td>[Ajax]</td>\n",
       "      <td>[\\n          Ajax is a technique for creating ...</td>\n",
       "      <td>https://github.com/topics/ajax</td>\n",
       "    </tr>\n",
       "    <tr>\n",
       "      <th>2</th>\n",
       "      <td>[Algorithm]</td>\n",
       "      <td>[\\n          Algorithms are self-contained seq...</td>\n",
       "      <td>https://github.com/topics/algorithm</td>\n",
       "    </tr>\n",
       "    <tr>\n",
       "      <th>3</th>\n",
       "      <td>[Amp]</td>\n",
       "      <td>[\\n          Amp is a non-blocking concurrency...</td>\n",
       "      <td>https://github.com/topics/amphp</td>\n",
       "    </tr>\n",
       "    <tr>\n",
       "      <th>4</th>\n",
       "      <td>[Android]</td>\n",
       "      <td>[\\n          Android is an operating system bu...</td>\n",
       "      <td>https://github.com/topics/android</td>\n",
       "    </tr>\n",
       "    <tr>\n",
       "      <th>5</th>\n",
       "      <td>[Angular]</td>\n",
       "      <td>[\\n          Angular is an open source web app...</td>\n",
       "      <td>https://github.com/topics/angular</td>\n",
       "    </tr>\n",
       "    <tr>\n",
       "      <th>6</th>\n",
       "      <td>[Ansible]</td>\n",
       "      <td>[\\n          Ansible is a simple and powerful ...</td>\n",
       "      <td>https://github.com/topics/ansible</td>\n",
       "    </tr>\n",
       "    <tr>\n",
       "      <th>7</th>\n",
       "      <td>[API]</td>\n",
       "      <td>[\\n          An API (Application Programming I...</td>\n",
       "      <td>https://github.com/topics/api</td>\n",
       "    </tr>\n",
       "    <tr>\n",
       "      <th>8</th>\n",
       "      <td>[Arduino]</td>\n",
       "      <td>[\\n          Arduino is an open source hardwar...</td>\n",
       "      <td>https://github.com/topics/arduino</td>\n",
       "    </tr>\n",
       "    <tr>\n",
       "      <th>9</th>\n",
       "      <td>[ASP.NET]</td>\n",
       "      <td>[\\n          ASP.NET is a web framework for bu...</td>\n",
       "      <td>https://github.com/topics/aspnet</td>\n",
       "    </tr>\n",
       "    <tr>\n",
       "      <th>10</th>\n",
       "      <td>[Atom]</td>\n",
       "      <td>[\\n          Atom is a open source text editor...</td>\n",
       "      <td>https://github.com/topics/atom</td>\n",
       "    </tr>\n",
       "    <tr>\n",
       "      <th>11</th>\n",
       "      <td>[Awesome Lists]</td>\n",
       "      <td>[\\n          An awesome list is a list of awes...</td>\n",
       "      <td>https://github.com/topics/awesome</td>\n",
       "    </tr>\n",
       "    <tr>\n",
       "      <th>12</th>\n",
       "      <td>[Amazon Web Services]</td>\n",
       "      <td>[\\n          Amazon Web Services provides on-d...</td>\n",
       "      <td>https://github.com/topics/aws</td>\n",
       "    </tr>\n",
       "    <tr>\n",
       "      <th>13</th>\n",
       "      <td>[Azure]</td>\n",
       "      <td>[\\n          Azure is a cloud computing servic...</td>\n",
       "      <td>https://github.com/topics/azure</td>\n",
       "    </tr>\n",
       "    <tr>\n",
       "      <th>14</th>\n",
       "      <td>[Babel]</td>\n",
       "      <td>[\\n          Babel is a compiler for writing n...</td>\n",
       "      <td>https://github.com/topics/babel</td>\n",
       "    </tr>\n",
       "    <tr>\n",
       "      <th>15</th>\n",
       "      <td>[Bash]</td>\n",
       "      <td>[\\n          Bash is a shell and command langu...</td>\n",
       "      <td>https://github.com/topics/bash</td>\n",
       "    </tr>\n",
       "    <tr>\n",
       "      <th>16</th>\n",
       "      <td>[Bitcoin]</td>\n",
       "      <td>[\\n          Bitcoin is a cryptocurrency devel...</td>\n",
       "      <td>https://github.com/topics/bitcoin</td>\n",
       "    </tr>\n",
       "    <tr>\n",
       "      <th>17</th>\n",
       "      <td>[Bootstrap]</td>\n",
       "      <td>[\\n          Bootstrap is an HTML, CSS, and Ja...</td>\n",
       "      <td>https://github.com/topics/bootstrap</td>\n",
       "    </tr>\n",
       "    <tr>\n",
       "      <th>18</th>\n",
       "      <td>[Bot]</td>\n",
       "      <td>[\\n          A bot is an application that runs...</td>\n",
       "      <td>https://github.com/topics/bot</td>\n",
       "    </tr>\n",
       "    <tr>\n",
       "      <th>19</th>\n",
       "      <td>[C]</td>\n",
       "      <td>[\\n          C is a general purpose programmin...</td>\n",
       "      <td>https://github.com/topics/c</td>\n",
       "    </tr>\n",
       "    <tr>\n",
       "      <th>20</th>\n",
       "      <td>[Chrome]</td>\n",
       "      <td>[\\n          Chrome is a web browser from the ...</td>\n",
       "      <td>https://github.com/topics/chrome</td>\n",
       "    </tr>\n",
       "    <tr>\n",
       "      <th>21</th>\n",
       "      <td>[Chrome extension]</td>\n",
       "      <td>[\\n          Chrome extensions enable users to...</td>\n",
       "      <td>https://github.com/topics/chrome-extension</td>\n",
       "    </tr>\n",
       "    <tr>\n",
       "      <th>22</th>\n",
       "      <td>[Command line interface]</td>\n",
       "      <td>[\\n          A CLI, or command-line interface,...</td>\n",
       "      <td>https://github.com/topics/cli</td>\n",
       "    </tr>\n",
       "    <tr>\n",
       "      <th>23</th>\n",
       "      <td>[Clojure]</td>\n",
       "      <td>[\\n          Clojure is a dynamic, general-pur...</td>\n",
       "      <td>https://github.com/topics/clojure</td>\n",
       "    </tr>\n",
       "    <tr>\n",
       "      <th>24</th>\n",
       "      <td>[Code quality]</td>\n",
       "      <td>[\\n          Automate your code review with st...</td>\n",
       "      <td>https://github.com/topics/code-quality</td>\n",
       "    </tr>\n",
       "    <tr>\n",
       "      <th>25</th>\n",
       "      <td>[Code review]</td>\n",
       "      <td>[\\n          Ensure your code meets quality st...</td>\n",
       "      <td>https://github.com/topics/code-review</td>\n",
       "    </tr>\n",
       "    <tr>\n",
       "      <th>26</th>\n",
       "      <td>[Compiler]</td>\n",
       "      <td>[\\n          Compilers are software that trans...</td>\n",
       "      <td>https://github.com/topics/compiler</td>\n",
       "    </tr>\n",
       "    <tr>\n",
       "      <th>27</th>\n",
       "      <td>[Continuous integration]</td>\n",
       "      <td>[\\n          Automatically build and test your...</td>\n",
       "      <td>https://github.com/topics/continuous-integration</td>\n",
       "    </tr>\n",
       "    <tr>\n",
       "      <th>28</th>\n",
       "      <td>[COVID-19]</td>\n",
       "      <td>[\\n          The coronavirus disease 2019 (COV...</td>\n",
       "      <td>https://github.com/topics/covid-19</td>\n",
       "    </tr>\n",
       "    <tr>\n",
       "      <th>29</th>\n",
       "      <td>[C++]</td>\n",
       "      <td>[\\n          C++ is a general purpose and obje...</td>\n",
       "      <td>https://github.com/topics/cpp</td>\n",
       "    </tr>\n",
       "  </tbody>\n",
       "</table>\n",
       "</div>"
      ],
      "text/plain": [
       "                       title  \\\n",
       "0                       [3D]   \n",
       "1                     [Ajax]   \n",
       "2                [Algorithm]   \n",
       "3                      [Amp]   \n",
       "4                  [Android]   \n",
       "5                  [Angular]   \n",
       "6                  [Ansible]   \n",
       "7                      [API]   \n",
       "8                  [Arduino]   \n",
       "9                  [ASP.NET]   \n",
       "10                    [Atom]   \n",
       "11           [Awesome Lists]   \n",
       "12     [Amazon Web Services]   \n",
       "13                   [Azure]   \n",
       "14                   [Babel]   \n",
       "15                    [Bash]   \n",
       "16                 [Bitcoin]   \n",
       "17               [Bootstrap]   \n",
       "18                     [Bot]   \n",
       "19                       [C]   \n",
       "20                  [Chrome]   \n",
       "21        [Chrome extension]   \n",
       "22  [Command line interface]   \n",
       "23                 [Clojure]   \n",
       "24            [Code quality]   \n",
       "25             [Code review]   \n",
       "26                [Compiler]   \n",
       "27  [Continuous integration]   \n",
       "28                [COVID-19]   \n",
       "29                     [C++]   \n",
       "\n",
       "                                          description  \\\n",
       "0   [\\n          3D modeling is the process of vir...   \n",
       "1   [\\n          Ajax is a technique for creating ...   \n",
       "2   [\\n          Algorithms are self-contained seq...   \n",
       "3   [\\n          Amp is a non-blocking concurrency...   \n",
       "4   [\\n          Android is an operating system bu...   \n",
       "5   [\\n          Angular is an open source web app...   \n",
       "6   [\\n          Ansible is a simple and powerful ...   \n",
       "7   [\\n          An API (Application Programming I...   \n",
       "8   [\\n          Arduino is an open source hardwar...   \n",
       "9   [\\n          ASP.NET is a web framework for bu...   \n",
       "10  [\\n          Atom is a open source text editor...   \n",
       "11  [\\n          An awesome list is a list of awes...   \n",
       "12  [\\n          Amazon Web Services provides on-d...   \n",
       "13  [\\n          Azure is a cloud computing servic...   \n",
       "14  [\\n          Babel is a compiler for writing n...   \n",
       "15  [\\n          Bash is a shell and command langu...   \n",
       "16  [\\n          Bitcoin is a cryptocurrency devel...   \n",
       "17  [\\n          Bootstrap is an HTML, CSS, and Ja...   \n",
       "18  [\\n          A bot is an application that runs...   \n",
       "19  [\\n          C is a general purpose programmin...   \n",
       "20  [\\n          Chrome is a web browser from the ...   \n",
       "21  [\\n          Chrome extensions enable users to...   \n",
       "22  [\\n          A CLI, or command-line interface,...   \n",
       "23  [\\n          Clojure is a dynamic, general-pur...   \n",
       "24  [\\n          Automate your code review with st...   \n",
       "25  [\\n          Ensure your code meets quality st...   \n",
       "26  [\\n          Compilers are software that trans...   \n",
       "27  [\\n          Automatically build and test your...   \n",
       "28  [\\n          The coronavirus disease 2019 (COV...   \n",
       "29  [\\n          C++ is a general purpose and obje...   \n",
       "\n",
       "                                                 url  \n",
       "0                       https://github.com/topics/3d  \n",
       "1                     https://github.com/topics/ajax  \n",
       "2                https://github.com/topics/algorithm  \n",
       "3                    https://github.com/topics/amphp  \n",
       "4                  https://github.com/topics/android  \n",
       "5                  https://github.com/topics/angular  \n",
       "6                  https://github.com/topics/ansible  \n",
       "7                      https://github.com/topics/api  \n",
       "8                  https://github.com/topics/arduino  \n",
       "9                   https://github.com/topics/aspnet  \n",
       "10                    https://github.com/topics/atom  \n",
       "11                 https://github.com/topics/awesome  \n",
       "12                     https://github.com/topics/aws  \n",
       "13                   https://github.com/topics/azure  \n",
       "14                   https://github.com/topics/babel  \n",
       "15                    https://github.com/topics/bash  \n",
       "16                 https://github.com/topics/bitcoin  \n",
       "17               https://github.com/topics/bootstrap  \n",
       "18                     https://github.com/topics/bot  \n",
       "19                       https://github.com/topics/c  \n",
       "20                  https://github.com/topics/chrome  \n",
       "21        https://github.com/topics/chrome-extension  \n",
       "22                     https://github.com/topics/cli  \n",
       "23                 https://github.com/topics/clojure  \n",
       "24            https://github.com/topics/code-quality  \n",
       "25             https://github.com/topics/code-review  \n",
       "26                https://github.com/topics/compiler  \n",
       "27  https://github.com/topics/continuous-integration  \n",
       "28                https://github.com/topics/covid-19  \n",
       "29                     https://github.com/topics/cpp  "
      ]
     },
     "execution_count": 79,
     "metadata": {},
     "output_type": "execute_result"
    }
   ],
   "source": [
    "# create a Dataframe\n",
    "github_df = pd.DataFrame(github_dic)\n",
    "github_df"
   ]
  },
  {
   "cell_type": "code",
   "execution_count": 80,
   "id": "43643518",
   "metadata": {},
   "outputs": [],
   "source": [
    "# Export the extrated information to csv \n",
    "\n",
    "github_df.to_csv ('github.csv')  "
   ]
  },
  {
   "cell_type": "code",
   "execution_count": null,
   "id": "f80c2863",
   "metadata": {},
   "outputs": [],
   "source": []
  },
  {
   "cell_type": "code",
   "execution_count": null,
   "id": "29e202e5",
   "metadata": {},
   "outputs": [],
   "source": [
    "\n"
   ]
  },
  {
   "cell_type": "markdown",
   "id": "19974d33",
   "metadata": {},
   "source": [
    "#### Scraping the Algorithm page in github\n",
    "    Scraping web to get the dataframe of the Repository_username , Repository_name, star (Rating) and url"
   ]
  },
  {
   "cell_type": "code",
   "execution_count": 81,
   "id": "9664d8d3",
   "metadata": {},
   "outputs": [
    {
     "data": {
      "text/plain": [
       "'https://github.com/topics/algorithm'"
      ]
     },
     "execution_count": 81,
     "metadata": {},
     "output_type": "execute_result"
    }
   ],
   "source": [
    "# Get the url\n",
    "\n",
    "topic_page_url = url2[2]          \n",
    "topic_page_url"
   ]
  },
  {
   "cell_type": "code",
   "execution_count": 82,
   "id": "648a4835",
   "metadata": {},
   "outputs": [],
   "source": [
    "response_alg = requests.get(topic_page_url)"
   ]
  },
  {
   "cell_type": "code",
   "execution_count": 83,
   "id": "3e13af94",
   "metadata": {},
   "outputs": [
    {
     "data": {
      "text/plain": [
       "200"
      ]
     },
     "execution_count": 83,
     "metadata": {},
     "output_type": "execute_result"
    }
   ],
   "source": [
    "response_alg.status_code"
   ]
  },
  {
   "cell_type": "code",
   "execution_count": 84,
   "id": "0e31e877",
   "metadata": {},
   "outputs": [
    {
     "data": {
      "text/plain": [
       "444617"
      ]
     },
     "execution_count": 84,
     "metadata": {},
     "output_type": "execute_result"
    }
   ],
   "source": [
    "# Check the length of the algorithm page \n",
    "\n",
    "len(response_alg.text)"
   ]
  },
  {
   "cell_type": "code",
   "execution_count": 85,
   "id": "9e434039",
   "metadata": {},
   "outputs": [],
   "source": [
    "# convert to beautiful soup \n",
    "\n",
    "alg_topic = bs(response_alg.text, 'html.parser')"
   ]
  },
  {
   "cell_type": "code",
   "execution_count": 86,
   "id": "4155fa00",
   "metadata": {},
   "outputs": [],
   "source": [
    "#Get the topic and username \n",
    "\n",
    "h3_selection = 'f3 color-fg-muted text-normal lh-condensed'\n",
    "alg_repo_tags = alg_topic.find_all('h3', {'class' :h3_selection})      "
   ]
  },
  {
   "cell_type": "code",
   "execution_count": null,
   "id": "4238b7b5",
   "metadata": {},
   "outputs": [],
   "source": []
  },
  {
   "cell_type": "code",
   "execution_count": 87,
   "id": "c6dd8ac4",
   "metadata": {},
   "outputs": [],
   "source": [
    "a_tags = alg_repo_tags[0].find_all('a')"
   ]
  },
  {
   "cell_type": "code",
   "execution_count": 88,
   "id": "f55c953d",
   "metadata": {},
   "outputs": [
    {
     "data": {
      "text/plain": [
       "'jwasham'"
      ]
     },
     "execution_count": 88,
     "metadata": {},
     "output_type": "execute_result"
    }
   ],
   "source": [
    "a_tags[0].text.strip()"
   ]
  },
  {
   "cell_type": "code",
   "execution_count": 89,
   "id": "c02fcaca",
   "metadata": {},
   "outputs": [
    {
     "data": {
      "text/plain": [
       "'coding-interview-university'"
      ]
     },
     "execution_count": 89,
     "metadata": {},
     "output_type": "execute_result"
    }
   ],
   "source": [
    "a_tags[1].text.strip()"
   ]
  },
  {
   "cell_type": "code",
   "execution_count": 90,
   "id": "b46ba633",
   "metadata": {},
   "outputs": [
    {
     "data": {
      "text/plain": [
       "'/jwasham/coding-interview-university'"
      ]
     },
     "execution_count": 90,
     "metadata": {},
     "output_type": "execute_result"
    }
   ],
   "source": [
    "a_tags[1]['href']"
   ]
  },
  {
   "cell_type": "code",
   "execution_count": 91,
   "id": "42bcd56d",
   "metadata": {},
   "outputs": [
    {
     "data": {
      "text/plain": [
       "'/jwasham/coding-interview-university'"
      ]
     },
     "execution_count": 91,
     "metadata": {},
     "output_type": "execute_result"
    }
   ],
   "source": [
    "# Get the respository url\n",
    "a_tags[1]['href']"
   ]
  },
  {
   "cell_type": "code",
   "execution_count": 92,
   "id": "d8838cd2",
   "metadata": {},
   "outputs": [
    {
     "data": {
      "text/plain": [
       "'https://github.com/jwasham/coding-interview-university'"
      ]
     },
     "execution_count": 92,
     "metadata": {},
     "output_type": "execute_result"
    }
   ],
   "source": [
    "# Contruct url to get the repository page \n",
    "\n",
    "base_url = \"https://github.com\"\n",
    "alg_url = base_url + a_tags[1]['href']\n",
    "alg_url"
   ]
  },
  {
   "cell_type": "code",
   "execution_count": null,
   "id": "fb38cd8a",
   "metadata": {},
   "outputs": [],
   "source": []
  },
  {
   "cell_type": "code",
   "execution_count": 93,
   "id": "18a4145d",
   "metadata": {},
   "outputs": [],
   "source": [
    "# Get the (star) rating of the topic\n",
    "\n",
    "star_alg = alg_topic.find_all ('span', {'class' : \"Counter js-social-count\"})                     "
   ]
  },
  {
   "cell_type": "code",
   "execution_count": null,
   "id": "ea54e4af",
   "metadata": {},
   "outputs": [],
   "source": []
  },
  {
   "cell_type": "code",
   "execution_count": 94,
   "id": "3d4f8396",
   "metadata": {},
   "outputs": [
    {
     "data": {
      "text/plain": [
       "[<span aria-label=\"231180 users starred this repository\" class=\"Counter js-social-count\" data-pjax-replace=\"true\" data-plural-suffix=\"users starred this repository\" data-singular-suffix=\"user starred this repository\" data-turbo-replace=\"true\" data-view-component=\"true\" id=\"repo-stars-counter-star\" title=\"231,180\">231k</span>,\n",
       " <span aria-label=\"156081 users starred this repository\" class=\"Counter js-social-count\" data-pjax-replace=\"true\" data-plural-suffix=\"users starred this repository\" data-singular-suffix=\"user starred this repository\" data-turbo-replace=\"true\" data-view-component=\"true\" id=\"repo-stars-counter-star\" title=\"156,081\">156k</span>,\n",
       " <span aria-label=\"150054 users starred this repository\" class=\"Counter js-social-count\" data-pjax-replace=\"true\" data-plural-suffix=\"users starred this repository\" data-singular-suffix=\"user starred this repository\" data-turbo-replace=\"true\" data-view-component=\"true\" id=\"repo-stars-counter-star\" title=\"150,054\">150k</span>,\n",
       " <span aria-label=\"142762 users starred this repository\" class=\"Counter js-social-count\" data-pjax-replace=\"true\" data-plural-suffix=\"users starred this repository\" data-singular-suffix=\"user starred this repository\" data-turbo-replace=\"true\" data-view-component=\"true\" id=\"repo-stars-counter-star\" title=\"142,762\">143k</span>,\n",
       " <span aria-label=\"77607 users starred this repository\" class=\"Counter js-social-count\" data-pjax-replace=\"true\" data-plural-suffix=\"users starred this repository\" data-singular-suffix=\"user starred this repository\" data-turbo-replace=\"true\" data-view-component=\"true\" id=\"repo-stars-counter-star\" title=\"77,607\">77.6k</span>]"
      ]
     },
     "execution_count": 94,
     "metadata": {},
     "output_type": "execute_result"
    }
   ],
   "source": [
    "star_alg [:5]"
   ]
  },
  {
   "cell_type": "code",
   "execution_count": 95,
   "id": "3d505528",
   "metadata": {},
   "outputs": [
    {
     "data": {
      "text/plain": [
       "'231k'"
      ]
     },
     "execution_count": 95,
     "metadata": {},
     "output_type": "execute_result"
    }
   ],
   "source": [
    "star_alg[0].text.strip()"
   ]
  },
  {
   "cell_type": "code",
   "execution_count": 96,
   "id": "fcd26f8b",
   "metadata": {},
   "outputs": [],
   "source": [
    "# Format the star rating \n",
    "\n",
    "def parse_star_count (star_alg):\n",
    "    star_alg = star_alg.strip()\n",
    "    if star_alg[-1] == 'k':     \n",
    "                                                             \n",
    "        return int(float (star_alg[:-1])*1000)       \n",
    "    return int (star_alg)\n",
    "                                                            "
   ]
  },
  {
   "cell_type": "code",
   "execution_count": 97,
   "id": "c143d674",
   "metadata": {},
   "outputs": [
    {
     "data": {
      "text/plain": [
       "231000"
      ]
     },
     "execution_count": 97,
     "metadata": {},
     "output_type": "execute_result"
    }
   ],
   "source": [
    "parse_star_count(star_alg[0].text.strip())"
   ]
  },
  {
   "cell_type": "code",
   "execution_count": null,
   "id": "e6bd5294",
   "metadata": {},
   "outputs": [],
   "source": []
  },
  {
   "cell_type": "code",
   "execution_count": 98,
   "id": "c134c7c0",
   "metadata": {},
   "outputs": [],
   "source": [
    "#Get the dataframe of the repository username , repo name,star and url\n",
    "\n",
    "def get_repo_info(h3_tag, star_alg):\n",
    "    #return all the required info about a respository \n",
    "    a_tags = h3_tag.find_all('a')\n",
    "    username = a_tags[0].text.strip()\n",
    "    repo_name = a_tags[1].text.strip()\n",
    "    star = parse_star_count(star_alg.text.strip())\n",
    "    repo_url = base_url + a_tags[0]['href']\n",
    "\n",
    "    return username, repo_name, star, repo_url \n",
    "    "
   ]
  },
  {
   "cell_type": "code",
   "execution_count": 99,
   "id": "b745c292",
   "metadata": {},
   "outputs": [
    {
     "data": {
      "text/plain": [
       "('jwasham',\n",
       " 'coding-interview-university',\n",
       " 231000,\n",
       " 'https://github.com/jwasham')"
      ]
     },
     "execution_count": 99,
     "metadata": {},
     "output_type": "execute_result"
    }
   ],
   "source": [
    "# Preview of the above script using 'the function defined'\n",
    "\n",
    "get_repo_info( alg_repo_tags[0], star_alg[0])"
   ]
  },
  {
   "cell_type": "code",
   "execution_count": 100,
   "id": "88977c8f",
   "metadata": {},
   "outputs": [],
   "source": [
    "#- create a dictionary \n",
    "\n",
    "alg_repo_dict = {\n",
    "    'username': [], \n",
    "    'repo_name': [], \n",
    "    'star': [], \n",
    "    'repo_url': [],\n",
    "}\n",
    "\n",
    "for i in range (len(alg_repo_tags)):\n",
    "    repo_info = get_repo_info( alg_repo_tags[i], star_alg[i])\n",
    "    alg_repo_dict ['username'].append(repo_info [0])\n",
    "    alg_repo_dict ['repo_name'].append(repo_info [1])\n",
    "    alg_repo_dict ['star'].append(repo_info [2])\n",
    "    alg_repo_dict ['repo_url'].append(repo_info [3])"
   ]
  },
  {
   "cell_type": "code",
   "execution_count": 101,
   "id": "d4cf0a64",
   "metadata": {},
   "outputs": [
    {
     "data": {
      "text/plain": [
       "{'username': ['jwasham',\n",
       "  'CyC2018',\n",
       "  'trekhleb',\n",
       "  'TheAlgorithms',\n",
       "  'yangshun',\n",
       "  'kdn251',\n",
       "  'azl397985856',\n",
       "  'TheAlgorithms',\n",
       "  'algorithm-visualizer',\n",
       "  'youngyangyang04',\n",
       "  'crossoverJie',\n",
       "  'halfrost',\n",
       "  'donnemartin',\n",
       "  'huihut',\n",
       "  'TheAlgorithms',\n",
       "  'keon',\n",
       "  'TheAlgorithms',\n",
       "  'mxgmn',\n",
       "  'trekhleb',\n",
       "  'AtsushiSakai'],\n",
       " 'repo_name': ['coding-interview-university',\n",
       "  'CS-Notes',\n",
       "  'javascript-algorithms',\n",
       "  'Python',\n",
       "  'tech-interview-handbook',\n",
       "  'interviews',\n",
       "  'leetcode',\n",
       "  'Java',\n",
       "  'algorithm-visualizer',\n",
       "  'leetcode-master',\n",
       "  'JCSprout',\n",
       "  'LeetCode-Go',\n",
       "  'interactive-coding-challenges',\n",
       "  'interview',\n",
       "  'JavaScript',\n",
       "  'algorithms',\n",
       "  'C-Plus-Plus',\n",
       "  'WaveFunctionCollapse',\n",
       "  'homemade-machine-learning',\n",
       "  'PythonRobotics'],\n",
       " 'star': [231000,\n",
       "  156000,\n",
       "  150000,\n",
       "  143000,\n",
       "  77600,\n",
       "  58100,\n",
       "  49200,\n",
       "  47500,\n",
       "  38900,\n",
       "  31200,\n",
       "  26800,\n",
       "  26500,\n",
       "  26100,\n",
       "  25600,\n",
       "  21900,\n",
       "  21500,\n",
       "  20700,\n",
       "  19800,\n",
       "  19600,\n",
       "  16000],\n",
       " 'repo_url': ['https://github.com/jwasham',\n",
       "  'https://github.com/CyC2018',\n",
       "  'https://github.com/trekhleb',\n",
       "  'https://github.com/TheAlgorithms',\n",
       "  'https://github.com/yangshun',\n",
       "  'https://github.com/kdn251',\n",
       "  'https://github.com/azl397985856',\n",
       "  'https://github.com/TheAlgorithms',\n",
       "  'https://github.com/algorithm-visualizer',\n",
       "  'https://github.com/youngyangyang04',\n",
       "  'https://github.com/crossoverJie',\n",
       "  'https://github.com/halfrost',\n",
       "  'https://github.com/donnemartin',\n",
       "  'https://github.com/huihut',\n",
       "  'https://github.com/TheAlgorithms',\n",
       "  'https://github.com/keon',\n",
       "  'https://github.com/TheAlgorithms',\n",
       "  'https://github.com/mxgmn',\n",
       "  'https://github.com/trekhleb',\n",
       "  'https://github.com/AtsushiSakai']}"
      ]
     },
     "execution_count": 101,
     "metadata": {},
     "output_type": "execute_result"
    }
   ],
   "source": [
    "alg_repo_dict"
   ]
  },
  {
   "cell_type": "code",
   "execution_count": 102,
   "id": "c540554f",
   "metadata": {},
   "outputs": [
    {
     "data": {
      "text/html": [
       "<div>\n",
       "<style scoped>\n",
       "    .dataframe tbody tr th:only-of-type {\n",
       "        vertical-align: middle;\n",
       "    }\n",
       "\n",
       "    .dataframe tbody tr th {\n",
       "        vertical-align: top;\n",
       "    }\n",
       "\n",
       "    .dataframe thead th {\n",
       "        text-align: right;\n",
       "    }\n",
       "</style>\n",
       "<table border=\"1\" class=\"dataframe\">\n",
       "  <thead>\n",
       "    <tr style=\"text-align: right;\">\n",
       "      <th></th>\n",
       "      <th>username</th>\n",
       "      <th>repo_name</th>\n",
       "      <th>star</th>\n",
       "      <th>repo_url</th>\n",
       "    </tr>\n",
       "  </thead>\n",
       "  <tbody>\n",
       "    <tr>\n",
       "      <th>0</th>\n",
       "      <td>jwasham</td>\n",
       "      <td>coding-interview-university</td>\n",
       "      <td>231000</td>\n",
       "      <td>https://github.com/jwasham</td>\n",
       "    </tr>\n",
       "    <tr>\n",
       "      <th>1</th>\n",
       "      <td>CyC2018</td>\n",
       "      <td>CS-Notes</td>\n",
       "      <td>156000</td>\n",
       "      <td>https://github.com/CyC2018</td>\n",
       "    </tr>\n",
       "    <tr>\n",
       "      <th>2</th>\n",
       "      <td>trekhleb</td>\n",
       "      <td>javascript-algorithms</td>\n",
       "      <td>150000</td>\n",
       "      <td>https://github.com/trekhleb</td>\n",
       "    </tr>\n",
       "    <tr>\n",
       "      <th>3</th>\n",
       "      <td>TheAlgorithms</td>\n",
       "      <td>Python</td>\n",
       "      <td>143000</td>\n",
       "      <td>https://github.com/TheAlgorithms</td>\n",
       "    </tr>\n",
       "    <tr>\n",
       "      <th>4</th>\n",
       "      <td>yangshun</td>\n",
       "      <td>tech-interview-handbook</td>\n",
       "      <td>77600</td>\n",
       "      <td>https://github.com/yangshun</td>\n",
       "    </tr>\n",
       "  </tbody>\n",
       "</table>\n",
       "</div>"
      ],
      "text/plain": [
       "        username                    repo_name    star  \\\n",
       "0        jwasham  coding-interview-university  231000   \n",
       "1        CyC2018                     CS-Notes  156000   \n",
       "2       trekhleb        javascript-algorithms  150000   \n",
       "3  TheAlgorithms                       Python  143000   \n",
       "4       yangshun      tech-interview-handbook   77600   \n",
       "\n",
       "                           repo_url  \n",
       "0        https://github.com/jwasham  \n",
       "1        https://github.com/CyC2018  \n",
       "2       https://github.com/trekhleb  \n",
       "3  https://github.com/TheAlgorithms  \n",
       "4       https://github.com/yangshun  "
      ]
     },
     "execution_count": 102,
     "metadata": {},
     "output_type": "execute_result"
    }
   ],
   "source": [
    "#convert the above table text to dataframe \n",
    "\n",
    "alg_repo_df = pd.DataFrame(alg_repo_dict)\n",
    "alg_repo_df.head()"
   ]
  },
  {
   "cell_type": "code",
   "execution_count": null,
   "id": "2ebdb304",
   "metadata": {},
   "outputs": [],
   "source": []
  },
  {
   "cell_type": "code",
   "execution_count": null,
   "id": "dc741131",
   "metadata": {},
   "outputs": [],
   "source": []
  }
 ],
 "metadata": {
  "kernelspec": {
   "display_name": "Python 3 (ipykernel)",
   "language": "python",
   "name": "python3"
  },
  "language_info": {
   "codemirror_mode": {
    "name": "ipython",
    "version": 3
   },
   "file_extension": ".py",
   "mimetype": "text/x-python",
   "name": "python",
   "nbconvert_exporter": "python",
   "pygments_lexer": "ipython3",
   "version": "3.9.12"
  }
 },
 "nbformat": 4,
 "nbformat_minor": 5
}
